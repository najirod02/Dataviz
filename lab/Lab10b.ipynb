{
 "cells": [
  {
   "cell_type": "markdown",
   "metadata": {},
   "source": [
    "# Geospatial mapping with Python\n",
    "Shahryar Noei\n",
    "\n",
    "Originally by Marco Chierici\n",
    "\n",
    "May 13, 2025\n",
    "\n",
    "---"
   ]
  },
  {
   "cell_type": "markdown",
   "metadata": {},
   "source": [
    "# Overview\n",
    "\n",
    "In this lab, we'll go through three main methods to deal with geospatial mapping in Python, with a focus on choropleth maps.\n",
    "\n",
    "Prerequisites:\n",
    "\n",
    "* GeoPandas & geoplot - `conda install -c conda-forge geopandas`, `conda install -c conda-forge geoplot`\n",
    "* Plotly - `conda install -c plotly plotly=5.22.0`\n",
    "* Folium - `conda install -c conda-forge folium`"
   ]
  },
  {
   "cell_type": "code",
   "execution_count": null,
   "metadata": {},
   "outputs": [],
   "source": [
    "import numpy as np\n",
    "import pandas as pd\n",
    "import matplotlib as mpl\n",
    "import matplotlib.pyplot as plt\n",
    "import seaborn as sns\n",
    "import warnings\n",
    "\n",
    "# don't display warning messages\n",
    "warnings.filterwarnings(action=\"ignore\")\n",
    "\n",
    "%matplotlib inline"
   ]
  },
  {
   "cell_type": "markdown",
   "metadata": {},
   "source": [
    "# Ingredients\n",
    "\n",
    "A map is a set of polygon coordinates displayed on a 2D canvas. So, first you need to get those polygons! Common sources are:\n",
    "\n",
    "- a shapefile (shp) or GeoJSON file - `geopandas` is the preferred way to import these files into Python\n",
    "- a Python library (`geopandas` again, or `basemap`) with the information for common locations or regions (Europe, USA, etc.)\n",
    "- OpenStreetMap or other similar tile providers.\n",
    "\n",
    "Now that you have a set of polygons, you can plot it using different approaches. For example:\n",
    "\n",
    "- `geoplot`, if you have your data into a `geopandas`' `geodataframe`;\n",
    "- `plotly`, if you want or need an interactive map from a `geodataframe`;\n",
    "- `folium`, if you want to use Google Map styled maps.\n",
    "\n",
    "## Choropleth maps\n",
    "\n",
    "A choropleth map is a map composed of colored polygons, conveying spatial variations of a quantity. To create them, you'll need:\n",
    "\n",
    "1. Geometry information (GeoJSON, SHP, etc.) - see above\n",
    "1. A list of values indexed by a feature identifier."
   ]
  },
  {
   "cell_type": "markdown",
   "metadata": {},
   "source": [
    "# GeoPandas"
   ]
  },
  {
   "cell_type": "markdown",
   "metadata": {},
   "source": [
    "[GeoPandas](https://geopandas.org/en/stable/) extends the datatypes used by pandas to support spatial operations on geometric types.\n",
    "\n",
    "We start by importing a geoJSON file with the state boundaries of France."
   ]
  },
  {
   "cell_type": "code",
   "execution_count": null,
   "metadata": {},
   "outputs": [],
   "source": [
    "# installation\n",
    "# !pip install geopandas\n",
    "# !conda install geopandas\n",
    "# !mamba install geopandas"
   ]
  },
  {
   "cell_type": "code",
   "execution_count": null,
   "metadata": {},
   "outputs": [],
   "source": [
    "import geopandas as gpd\n",
    "\n",
    "data = gpd.read_file(\"https://raw.githubusercontent.com/holtzy/The-Python-Graph-Gallery/master/static/data/france.geojson\")\n",
    "data.crs"
   ]
  },
  {
   "cell_type": "markdown",
   "metadata": {},
   "source": [
    "`data` is a `geodataframe`, where each row represents an item in the geoJSON file - in this case, a region of France. The columns describe the features of each region: in particular, the `geometry` column stores the coordinates of the region boundary."
   ]
  },
  {
   "cell_type": "code",
   "execution_count": null,
   "metadata": {},
   "outputs": [],
   "source": [
    "print(type(data))"
   ]
  },
  {
   "cell_type": "markdown",
   "metadata": {},
   "source": [
    "The most common and straightforward way to plot a map from a geopandas dataframe is with `geoplot`."
   ]
  },
  {
   "cell_type": "code",
   "execution_count": null,
   "metadata": {},
   "outputs": [],
   "source": [
    "import geoplot as gplt\n",
    "import geoplot.crs as gcrs  # load projections\n",
    "\n",
    "gplt.polyplot(\n",
    "    data,\n",
    "    projection=gcrs.AlbersEqualArea(),\n",
    "    edgecolor=\"darkgrey\",\n",
    "    facecolor=\"lightgrey\",\n",
    "    linewidth=0.3,\n",
    "    figsize=(12, 8),\n",
    ")\n",
    "plt.show()"
   ]
  },
  {
   "cell_type": "markdown",
   "metadata": {},
   "source": [
    "Now that we have learned how to draw a map combining GeoPandas and geoplot, let's create a choropleth map to visualize the unemployment rate of each US county."
   ]
  },
  {
   "cell_type": "code",
   "execution_count": null,
   "metadata": {},
   "outputs": [],
   "source": [
    "# Load the json file with county coordinates\n",
    "geoData = gpd.read_file(\"https://raw.githubusercontent.com/holtzy/The-Python-Graph-Gallery/master/static/data/US-counties.geojson\")\n",
    "\n",
    "# Make sure the \"id\" column is an integer\n",
    "geoData.id = geoData.id.astype(str).astype(int)\n",
    "geoData.head()"
   ]
  },
  {
   "cell_type": "code",
   "execution_count": null,
   "metadata": {},
   "outputs": [],
   "source": [
    "# Remove Alaska, Hawaii and Puerto Rico.\n",
    "stateToRemove = [\"02\", \"15\", \"72\"]\n",
    "geoData = geoData[~geoData.STATE.isin(stateToRemove)]\n",
    "geoData = geoData.explode(index_parts=False)\n",
    "\n",
    "# Basic plot with just county outlines\n",
    "gplt.polyplot(geoData, figsize=(20, 4))\n",
    "\n",
    "plt.show()"
   ]
  },
  {
   "cell_type": "markdown",
   "metadata": {},
   "source": [
    "To build a choropleth map, we need numeric data to link to the map: we load the unemployment rate of US counties from the Bureau of Labor Statistics ([source](http://www.bls.gov/lau/#tables))."
   ]
  },
  {
   "cell_type": "code",
   "execution_count": null,
   "metadata": {},
   "outputs": [],
   "source": [
    "data = pd.read_csv(\"https://raw.githubusercontent.com/holtzy/The-Python-Graph-Gallery/master/static/data/unemployment-x.csv\")\n",
    "data.head()"
   ]
  },
  {
   "cell_type": "code",
   "execution_count": null,
   "metadata": {},
   "outputs": [],
   "source": [
    "# plot a histogram of unemployment rate\n",
    "sns.distplot(data[\"rate\"], hist=True, kde=False);"
   ]
  },
  {
   "cell_type": "markdown",
   "metadata": {},
   "source": [
    "Now we can merge both sources of data (map and unemployment rates) in order to visualize them together. We'll be using  the `merge()` function of geopandas:"
   ]
  },
  {
   "cell_type": "code",
   "execution_count": null,
   "metadata": {},
   "outputs": [],
   "source": [
    "fullData = geoData.merge(data, left_on=[\"id\"], right_on=[\"id\"])\n",
    "fullData.head()"
   ]
  },
  {
   "cell_type": "markdown",
   "metadata": {},
   "source": [
    "We are happy that `geoplot` provides a `choropleth()` function!\n",
    "\n",
    "`choropleth(df, projection=None, hue=None, cmap=None, scheme=None)`\n",
    "\n",
    "The `hue` parameter expects the name of the column we want to use to control the color of each county. Then, we have to pick a suitable color palette (`cmap`) and a binning scheme (`scheme`). Geoplot comes with both continuous and categorical binning schemes, i.e. methods that split a sequence of observations into a number of bins."
   ]
  },
  {
   "cell_type": "code",
   "execution_count": null,
   "metadata": {},
   "outputs": [],
   "source": [
    "fig, ax = plt.subplots(1, 1, figsize=(16, 12))\n",
    "\n",
    "# set up the binning sheme\n",
    "import mapclassify as mc\n",
    "\n",
    "scheme = mc.Quantiles(fullData[\"rate\"], k=10)\n",
    "\n",
    "# map\n",
    "gplt.choropleth(\n",
    "    fullData,\n",
    "    hue=\"rate\",\n",
    "    linewidth=0.1,\n",
    "    scheme=scheme,#necessary in order to make sure that we limit the number of colors\n",
    "    cmap=\"inferno_r\",\n",
    "    legend=True,\n",
    "    edgecolor=\"black\",\n",
    "    ax=ax,\n",
    ")\n",
    "\n",
    "ax.set_title(\"Unemployment rate in US counties\", fontsize=13);"
   ]
  },
  {
   "cell_type": "markdown",
   "metadata": {
    "tags": []
   },
   "source": [
    "# Plotly"
   ]
  },
  {
   "cell_type": "markdown",
   "metadata": {},
   "source": [
    "[Plotly](https://plotly.com/graphing-libraries/) is a open-source graphing library aimed at interactivity for Python, R, and other languages. It can be used offline and does not require any account registration (Plotly.com has also paid licenses for enterprise users).\n",
    "\n",
    "We'll create a choropleth map of the US unemployment rate with Plotly, this time using a slightly different approach for gathering the data.\n",
    "\n",
    "We load a GeoJSON file with the geometry information for US counties:"
   ]
  },
  {
   "cell_type": "code",
   "execution_count": null,
   "metadata": {},
   "outputs": [],
   "source": [
    "# installation\n",
    "# !pip install plotly==5.22.0\n",
    "# !conda install -y -c plotly plotly=5.22.0\n",
    "# !mamba install -y -c plotly plotly=5.22.0"
   ]
  },
  {
   "cell_type": "code",
   "execution_count": null,
   "metadata": {},
   "outputs": [],
   "source": [
    "from urllib.request import urlopen\n",
    "import json\n",
    "\n",
    "with urlopen(\"https://raw.githubusercontent.com/plotly/datasets/master/geojson-counties-fips.json\") as response:\n",
    "    counties = json.load(response)\n",
    "\n",
    "counties[\"features\"][0]"
   ]
  },
  {
   "cell_type": "markdown",
   "metadata": {},
   "source": [
    "Each `feature.id` is a FIPS code (Federal Information Processing Standards), which is a number that uniquely identifies a geographic area.\n",
    "\n",
    "Next, we load unemployment data by county, also indexed by FIPS code."
   ]
  },
  {
   "cell_type": "code",
   "execution_count": null,
   "metadata": {},
   "outputs": [],
   "source": [
    "df = pd.read_csv(\n",
    "    \"https://raw.githubusercontent.com/plotly/datasets/master/fips-unemp-16.csv\",\n",
    "    dtype={\"fips\": str},\n",
    ")\n",
    "df.head()"
   ]
  },
  {
   "cell_type": "markdown",
   "metadata": {},
   "source": [
    "We are ready for plotting. We'll use Plotly express, Plotly's high-level API for creating figures. As it was for geoplot, we can use a very convenient `choropleth()` function."
   ]
  },
  {
   "cell_type": "code",
   "execution_count": null,
   "metadata": {},
   "outputs": [],
   "source": [
    "import plotly.express as px\n",
    "\n",
    "# option 1\n",
    "fig = px.choropleth(\n",
    "    df,\n",
    "    geojson=counties,\n",
    "    locations=\"fips\",\n",
    "    color=\"unemp\",\n",
    "    color_continuous_scale=\"Viridis\",\n",
    "    range_color=(0, 12),\n",
    "    scope=\"usa\",\n",
    "    labels={\"unemp\": \"unemployment rate\"},\n",
    ")\n",
    "\n",
    "fig.update_layout(margin={\"r\": 0, \"t\": 0, \"l\": 0, \"b\": 0})\n",
    "fig.show()"
   ]
  },
  {
   "cell_type": "code",
   "execution_count": null,
   "metadata": {},
   "outputs": [],
   "source": [
    "fig = px.choropleth(\n",
    "    df,\n",
    "    geojson=counties,\n",
    "    locations=\"fips\",\n",
    "    color=\"unemp\",\n",
    "    color_continuous_scale=\"Viridis\",\n",
    "    range_color=(0, 12),\n",
    "    scope=\"usa\",\n",
    "    labels={\"unemp\": \"unemployment rate\"},\n",
    ")\n",
    "\n",
    "fig.update_layout(margin={\"r\": 0, \"t\": 0, \"l\": 0, \"b\": 0})\n",
    "\n",
    "# better legend\n",
    "fig.update_layout(\n",
    "    coloraxis_colorbar=dict(\n",
    "        thicknessmode=\"pixels\",\n",
    "        thickness=10,\n",
    "        lenmode=\"pixels\",\n",
    "        len=150,\n",
    "        yanchor=\"top\",\n",
    "        y=0.8,\n",
    "        ticks=\"outside\",\n",
    "        ticksuffix=\" %\",\n",
    "        dtick=5,\n",
    "    )\n",
    ")\n",
    "\n",
    "fig.show()"
   ]
  },
  {
   "cell_type": "code",
   "execution_count": null,
   "metadata": {},
   "outputs": [],
   "source": [
    "# option 2\n",
    "fig = px.choropleth_mapbox(\n",
    "    df,\n",
    "    geojson=counties,\n",
    "    locations=\"fips\",\n",
    "    color=\"unemp\",\n",
    "    color_continuous_scale=\"Viridis\",\n",
    "    range_color=(0, 12),\n",
    "    mapbox_style=\"carto-positron\",\n",
    "    zoom=3,\n",
    "    center={\"lat\": 37.0902, \"lon\": -95.7129},\n",
    "    opacity=0.5,\n",
    "    labels={\"unemp\": \"unemployment rate\"},\n",
    ")\n",
    "\n",
    "fig.update_layout(margin={\"r\": 0, \"t\": 0, \"l\": 0, \"b\": 0})\n",
    "fig.show()"
   ]
  },
  {
   "cell_type": "markdown",
   "metadata": {},
   "source": [
    "Especially if you work outside Jupyter notebooks, you can save the output plot as a standalone HTML file:"
   ]
  },
  {
   "cell_type": "code",
   "execution_count": null,
   "metadata": {},
   "outputs": [],
   "source": [
    "fig.write_html(\"plotly_choropleth_unemp.html\")"
   ]
  },
  {
   "cell_type": "markdown",
   "metadata": {},
   "source": [
    "You can then embed the HTML map in any HTML document using an `iframe`:\n",
    "\n",
    "`<iframe src=\"plotly_choropleth_unemp.html\" title=\"Plotly choropleth map\" style={{ border: \"none\", width: \"800px\", height: \"300px\" }}></iframe>`"
   ]
  },
  {
   "cell_type": "markdown",
   "metadata": {},
   "source": [
    "# Folium"
   ]
  },
  {
   "cell_type": "markdown",
   "metadata": {},
   "source": [
    "Folium is a Python wrapper of the `leaflet.js` JavaScript library, putting together the best of the two worlds: Python's data processing capabilities and JavaScript's interactive data visualization.\n",
    "\n",
    "With Folium we can create a map with just one line of code (besides the `import`):"
   ]
  },
  {
   "cell_type": "code",
   "execution_count": null,
   "metadata": {},
   "outputs": [],
   "source": [
    "# installation\n",
    "# !pip install folium\n",
    "# !conda install -y -c conda-forge folium\n",
    "# !mamba install -y folium"
   ]
  },
  {
   "cell_type": "code",
   "execution_count": null,
   "metadata": {},
   "outputs": [],
   "source": [
    "import folium\n",
    "map = folium.Map(location=[47.6151, -122.3413], zoom_start=13)\n",
    "map"
   ]
  },
  {
   "cell_type": "markdown",
   "metadata": {},
   "source": [
    "As you see, by default Folium uses OpenStreetMap as tile provider.\n",
    "\n",
    "The map can be saved to a standalone HTML file:"
   ]
  },
  {
   "cell_type": "code",
   "execution_count": null,
   "metadata": {},
   "outputs": [],
   "source": [
    "map.save(\"folium_basic_map.html\")"
   ]
  },
  {
   "cell_type": "markdown",
   "metadata": {},
   "source": [
    "You can use several options for the background tile using the `tiles` parameter. For example, let's take a look at Paris with a `CartoDB Positron` or `CartoDB Voyager` tile:"
   ]
  },
  {
   "cell_type": "code",
   "execution_count": null,
   "metadata": {},
   "outputs": [],
   "source": [
    "custoMap = folium.Map(location=[48.85, 2.35], tiles=\"cartodb positron\", zoom_start=10)\n",
    "custoMap"
   ]
  },
  {
   "cell_type": "code",
   "execution_count": null,
   "metadata": {},
   "outputs": [],
   "source": [
    "custoMap = folium.Map(location=[48.85, 2.35], tiles=\"cartodb voyager\", zoom_start=10)\n",
    "custoMap"
   ]
  },
  {
   "cell_type": "markdown",
   "metadata": {},
   "source": [
    "You can also pass a custom tileset to `tiles` with a URL template, such as \"https://{s}.tiles.example.com/{z}/{x}/{y}.png\". \n",
    "\n",
    "Pick one from here: https://leaflet-extras.github.io/leaflet-providers/preview/"
   ]
  },
  {
   "cell_type": "code",
   "execution_count": null,
   "metadata": {},
   "outputs": [],
   "source": [
    "custoMap = folium.Map(\n",
    "    location=[48.85, 2.35],\n",
    "    tiles=\"https://{s}.tile.opentopomap.org/{z}/{x}/{y}.png\",\n",
    "    attr=\"OpenTopoMap\",\n",
    "    zoom_start=10,\n",
    ")\n",
    "custoMap"
   ]
  },
  {
   "cell_type": "markdown",
   "metadata": {},
   "source": [
    "Adding markers to a Folium map is as easy as creating a Pandas dataframe storing their coordinates."
   ]
  },
  {
   "cell_type": "code",
   "execution_count": null,
   "metadata": {},
   "outputs": [],
   "source": [
    "# Make an empty map\n",
    "m = folium.Map(location=[20, 0], zoom_start=2)\n",
    "m"
   ]
  },
  {
   "cell_type": "code",
   "execution_count": null,
   "metadata": {},
   "outputs": [],
   "source": [
    "# Make a data frame with dots to show on the map\n",
    "data = pd.DataFrame({\n",
    "    'lon': [-58, 2, 145, -73.57, 36.82],\n",
    "    'lat': [-34, 49, -38, 45.52, -1.29],\n",
    "    'name': ['Buenos Aires', 'Paris', 'Melbourne', 'Montreal', 'Nairobi'],\n",
    "    'value': [10, 12, 40, 43, 100]\n",
    "})\n",
    "\n",
    "data"
   ]
  },
  {
   "cell_type": "code",
   "execution_count": null,
   "metadata": {},
   "outputs": [],
   "source": [
    "# add marker one by one on the map\n",
    "for i in range(0, len(data)):\n",
    "    folium.Marker(\n",
    "        location=[data.iloc[i][\"lat\"], data.iloc[i][\"lon\"]],\n",
    "        popup=f\"{data.iloc[i]['name']}\\n{data.iloc[i]['value']}\",\n",
    "    ).add_to(m)\n",
    "\n",
    "# Show the map again\n",
    "m"
   ]
  },
  {
   "cell_type": "markdown",
   "metadata": {},
   "source": [
    "Time to create a choropleth map of the US unemployment rate with Folium. First, we grab the data: note that this time we only need a valid path / URL for the geoJSON with geometry and we do not need to read it in. We do need to read the US unemployment data though."
   ]
  },
  {
   "cell_type": "code",
   "execution_count": null,
   "metadata": {},
   "outputs": [],
   "source": [
    "# geometry data\n",
    "url = \"https://raw.githubusercontent.com/python-visualization/folium/master/examples/data\"\n",
    "state_geo = f\"{url}/us-states.json\"\n",
    "# unemployment data\n",
    "state_unemployment = f\"{url}/US_Unemployment_Oct2012.csv\"\n",
    "state_data = pd.read_csv(state_unemployment)\n",
    "state_data.head()"
   ]
  },
  {
   "cell_type": "markdown",
   "metadata": {},
   "source": [
    "Next, we initialize a map setting tile and location:"
   ]
  },
  {
   "cell_type": "code",
   "execution_count": null,
   "metadata": {},
   "outputs": [],
   "source": [
    "m = folium.Map(location=[40, -95], zoom_start=4)\n",
    "m"
   ]
  },
  {
   "cell_type": "markdown",
   "metadata": {},
   "source": [
    "Finally, we create a `folium.Choropleth` object and we add it to our map:"
   ]
  },
  {
   "cell_type": "code",
   "execution_count": null,
   "metadata": {},
   "outputs": [],
   "source": [
    "folium.Choropleth(\n",
    "    geo_data=state_geo,\n",
    "    name=\"choropleth\",\n",
    "    data=state_data,\n",
    "    columns=[\"State\", \"Unemployment\"],\n",
    "    key_on=\"feature.id\",\n",
    "    fill_color=\"YlGn\",\n",
    "    fill_opacity=0.7,\n",
    "    line_opacity=0.1,\n",
    "    legend_name=\"Unemployment Rate (%)\",\n",
    ").add_to(m)\n",
    "\n",
    "folium.LayerControl().add_to(m)\n",
    "\n",
    "m"
   ]
  },
  {
   "cell_type": "markdown",
   "metadata": {},
   "source": [
    "---\n",
    "\n",
    "(partially abridged from [The Python Graph Gallery](https://www.python-graph-gallery.com/choropleth-map/), [Plotly doc](https://plotly.com/python/choropleth-maps/), [Folium doc](https://python-visualization.github.io/folium/quickstart.html))"
   ]
  }
 ],
 "metadata": {
  "kernelspec": {
   "display_name": ".venv",
   "language": "python",
   "name": "python3"
  },
  "language_info": {
   "codemirror_mode": {
    "name": "ipython",
    "version": 3
   },
   "file_extension": ".py",
   "mimetype": "text/x-python",
   "name": "python",
   "nbconvert_exporter": "python",
   "pygments_lexer": "ipython3",
   "version": "3.12.3"
  }
 },
 "nbformat": 4,
 "nbformat_minor": 4
}
